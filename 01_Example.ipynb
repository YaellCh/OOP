{
 "cells": [
  {
   "cell_type": "markdown",
   "metadata": {},
   "source": [
    "<img src=\"./Diagramas_clases/01_create_class.png\" alt=\"Ex 1\" width=\"500\">"
   ]
  },
  {
   "cell_type": "markdown",
   "metadata": {},
   "source": [
    "- **int id:** Asigna un identificador unico al empleado `Employee`\n",
    "- **int new_id:** variable global de `Employee`\n",
    "- **void say_id:** Imprime el `id` de la instancia\n"
   ]
  },
  {
   "cell_type": "code",
   "execution_count": 8,
   "metadata": {},
   "outputs": [],
   "source": [
    "class Employee:\n",
    "    new_id = 1\n",
    "\n",
    "    def __init__(self, name,age):\n",
    "        self.id = Employee.new_id\n",
    "        self.name = name\n",
    "        self.age = age\n",
    "        Employee.new_id += 1\n",
    "\n",
    "    def say_id(self):\n",
    "        print(f'Mi  nombre es {self.name}, tengo {self.age} años y mi ID es: {self.id}')"
   ]
  },
  {
   "cell_type": "code",
   "execution_count": 9,
   "metadata": {},
   "outputs": [
    {
     "name": "stdout",
     "output_type": "stream",
     "text": [
      "Mi  nombre es Savana, tengo 99 años y mi ID es: 1\n",
      "Mi  nombre es Dakota, tengo 99 años y mi ID es: 2\n"
     ]
    }
   ],
   "source": [
    "Savana = Employee('Savana',99)\n",
    "Savana.say_id()\n",
    "\n",
    "Dakota = Employee('Dakota',99)\n",
    "Dakota.say_id()"
   ]
  },
  {
   "cell_type": "code",
   "execution_count": null,
   "metadata": {},
   "outputs": [],
   "source": []
  }
 ],
 "metadata": {
  "kernelspec": {
   "display_name": "Python 3",
   "language": "python",
   "name": "python3"
  },
  "language_info": {
   "codemirror_mode": {
    "name": "ipython",
    "version": 3
   },
   "file_extension": ".py",
   "mimetype": "text/x-python",
   "name": "python",
   "nbconvert_exporter": "python",
   "pygments_lexer": "ipython3",
   "version": "3.12.5"
  }
 },
 "nbformat": 4,
 "nbformat_minor": 2
}
