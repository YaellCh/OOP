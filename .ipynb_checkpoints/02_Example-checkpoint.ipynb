{
 "cells": [
  {
   "cell_type": "markdown",
   "metadata": {},
   "source": [
    "<img src=\"./Diagramas_clases/02_herencia.png\" alt=\"Ex 1\" width=\"500\">"
   ]
  },
  {
   "cell_type": "markdown",
   "metadata": {},
   "source": [
    "- **void eat()**: Imprime `Yummy Yummy` estoy comiendo.\n",
    "- **void meow()**: Imprime soy un gato y hago meow!.\n",
    "- **void bark()**: Imprime Soy un perro y hago woof!."
   ]
  },
  {
   "cell_type": "code",
   "execution_count": 3,
   "metadata": {},
   "outputs": [],
   "source": [
    "class Animal:\n",
    "    def __init__(self, name):\n",
    "        self.name = name \n",
    "\n",
    "    def eat(self):\n",
    "        print('!Yummy yummy¡ estoy comiendo')\n",
    "\n",
    "class Cat(Animal):\n",
    "    def meow(self):\n",
    "        print(f'Soy un {self.name} y hago meow!')        \n",
    "\n",
    "class Dog(Animal):\n",
    "    def bark(self):\n",
    "        print(f'Soy un {self.name} y hago woof!')         \n",
    "\n",
    "       \n"
   ]
  },
  {
   "cell_type": "code",
   "execution_count": 5,
   "metadata": {},
   "outputs": [
    {
     "name": "stdout",
     "output_type": "stream",
     "text": [
      "!Yummy yummy¡ estoy comiendo\n",
      "!Yummy yummy¡ estoy comiendo\n",
      "Soy un michu y hago meow!\n",
      "Soy un firulais y hago woof!\n"
     ]
    }
   ],
   "source": [
    "michu = Cat('michu')\n",
    "michu.eat()\n",
    "\n",
    "firulais = Dog('firulais')\n",
    "firulais.eat()\n",
    "\n",
    "michu.meow()\n",
    "firulais.bark()\n"
   ]
  }
 ],
 "metadata": {
  "kernelspec": {
   "display_name": "Python 3",
   "language": "python",
   "name": "python3"
  },
  "language_info": {
   "codemirror_mode": {
    "name": "ipython",
    "version": 3
   },
   "file_extension": ".py",
   "mimetype": "text/x-python",
   "name": "python",
   "nbconvert_exporter": "python",
   "pygments_lexer": "ipython3",
   "version": "3.11.4"
  }
 },
 "nbformat": 4,
 "nbformat_minor": 2
}
