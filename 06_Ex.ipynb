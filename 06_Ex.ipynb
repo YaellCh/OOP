{
 "cells": [
  {
   "cell_type": "markdown",
   "id": "7ca69bd2-06a2-4df1-a5dc-3bfd2f0d5807",
   "metadata": {},
   "source": [
    "# Ejercicio 6 de OOP"
   ]
  },
  {
   "cell_type": "markdown",
   "id": "5a49609e-b766-4ca3-a284-37e4f5788315",
   "metadata": {},
   "source": [
    "\n",
    "<img src=\"./Imagen6.jpeg\" alt=\"Ex 6\" width=\"300\">"
   ]
  },
  {
   "cell_type": "markdown",
   "id": "de275f14",
   "metadata": {},
   "source": [
    "## Clase Employee\n",
    "- **int id**: Atributo de instancia. Identifica de manera unica a cada instancia de `Employee`.\n",
    "- **int new_id**: Atributo de clase. Identificador unico.\n",
    "- **void say_id()**: Imprime 'Mi id es: {self.id}."
   ]
  },
  {
   "cell_type": "code",
   "execution_count": 51,
   "id": "c09e878e",
   "metadata": {},
   "outputs": [],
   "source": [
    "class Employee:\n",
    "    new_id = 1\n",
    "\n",
    "    def __init__(self):\n",
    "        self.id = Employee.new_id\n",
    "        Employee.new_id += 1\n",
    "        \n",
    "    def say_id(self):\n",
    "        print(f'Mi id es: {self.id}')"
   ]
  },
  {
   "cell_type": "code",
   "execution_count": 52,
   "id": "4796b7d3-0eaa-43e1-8856-423ac6e55a4d",
   "metadata": {},
   "outputs": [
    {
     "name": "stdout",
     "output_type": "stream",
     "text": [
      "Mi id es: 1\n"
     ]
    }
   ],
   "source": [
    "yaelo = Employee()\n",
    "yaelo.say_id()"
   ]
  },
  {
   "cell_type": "markdown",
   "id": "664bd444",
   "metadata": {},
   "source": [
    "## Clase User\n",
    "- **str role**: Atributo de instancia. Funcion de `User` p.ej.\n",
    "    - Administrador\n",
    "    - Manager\n",
    "    - Usuario\n",
    "- **str username**: Atributo de instancia. Nombre del usuario.\n",
    "- **void say_user_info()**: Imprime 'Mi nombre es {self.username} y soy {self.role}.'."
   ]
  },
  {
   "cell_type": "code",
   "execution_count": 53,
   "id": "dbfbabea",
   "metadata": {},
   "outputs": [],
   "source": [
    "class User:\n",
    "  def __init__(self, username, role):\n",
    "    self.username = username\n",
    "    self.role = role\n",
    "\n",
    "  def say_user_info(self):\n",
    "    print(f\"My usuario es {self.username} y soy {self.role}\")"
   ]
  },
  {
   "cell_type": "code",
   "execution_count": 54,
   "id": "2ed552d2-a6d9-472c-b874-a56b21ecb6fb",
   "metadata": {},
   "outputs": [
    {
     "name": "stdout",
     "output_type": "stream",
     "text": [
      "My usuario es Yaelo y soy Administrador\n"
     ]
    }
   ],
   "source": [
    "yaelo = User('Yaelo','Administrador')\n",
    "yaelo.say_user_info()"
   ]
  },
  {
   "cell_type": "markdown",
   "id": "e64f0bee",
   "metadata": {},
   "source": [
    "## Clase Admin\n",
    "- **void say_id()**: Imprime:\n",
    "    - 'Mi id es: {self.id}.\n",
    "    - 'Soy un Administrador \\\\(0-0)/'."
   ]
  },
  {
   "cell_type": "code",
   "execution_count": 55,
   "id": "6adafe5f",
   "metadata": {},
   "outputs": [],
   "source": [
    "class Admin(Employee, User):\n",
    "    \n",
    "    def __init__(self, username):\n",
    "        super()._init_()\n",
    "        User._init_(self,'Administrador', username)  \n",
    "\n",
    "    def say_id(self):\n",
    "        super().say_id()\n",
    "        print(f'Soy un {self.role} \\\\(0-0)/.')"
   ]
  },
  {
   "cell_type": "markdown",
   "id": "f7d9acff-c28a-4148-b886-093650136d3f",
   "metadata": {},
   "source": [
    "  ## Clase Manager\n",
    "- **void say_id()**: Imprime:\n",
    "    - 'Mi id es: {self.id}.\n",
    "    - 'Soy un Administrador \\\\(0-0)/'.    \n",
    "    - 'Y estoy al mando'"
   ]
  },
  {
   "cell_type": "markdown",
   "id": "a9f4ffe2-c7cc-4dd1-95cf-3548ac1bb232",
   "metadata": {},
   "source": [
    "  ## Clase Persona\n",
    "\n",
    "    - 'Nombre completo'\n",
    "    - Apellidos ordenados\n",
    "    - Mayusculas o minusculas debe imprimir las primeras letras en mayusculas y las demas minusculas"
   ]
  },
  {
   "cell_type": "code",
   "execution_count": 56,
   "id": "540a49e2",
   "metadata": {},
   "outputs": [],
   "source": [
    "class Manager (Admin):\n",
    "\n",
    "    def say_id(self):\n",
    "        super().say_id()\n",
    "        print (f'Estoy al mando')"
   ]
  },
  {
   "cell_type": "code",
   "execution_count": 58,
   "id": "93531353-f1b8-40fb-be46-f46eb86c6025",
   "metadata": {},
   "outputs": [],
   "source": [
    "class Persona:\n",
    "    def __init__(self, name, apellidoP, apellidoM):\n",
    "        self.name = name.title()\n",
    "        self.apellidoP = apellidoP.title()\n",
    "        self.apellidoM = apellidoM.title()\n",
    "\n",
    "    def say_my_name(self):\n",
    "        return f\"My name is: {self.name} {self.apellidoP} {self.apellidoM}\""
   ]
  },
  {
   "cell_type": "code",
   "execution_count": 63,
   "id": "7cba91b6-9c9a-43a2-bb84-2c63da47e76b",
   "metadata": {},
   "outputs": [
    {
     "data": {
      "text/plain": [
       "'My name is: Yael Antonio Chavez Atanacio'"
      ]
     },
     "execution_count": 63,
     "metadata": {},
     "output_type": "execute_result"
    }
   ],
   "source": [
    "person1 = Persona(\"yAel antoniO\", \"chavez\", \"ATANACIO\")\n",
    "person1.say_my_name()"
   ]
  },
  {
   "cell_type": "markdown",
   "id": "f45173e7-0d3b-4a91-8c71-019d0259b63f",
   "metadata": {},
   "source": [
    "class Point2D\n",
    "\n",
    "crea una clase donde utilices la formula d = raiz (x2 - x1)2 + (y2- y1)2\n",
    "crea un punto en dos dimenciones dada  las cordenadas \"x\" y \"y\"\n",
    "crea un metodo \"calculate_distance\" calcula la distancia entre dos puntos\n",
    "regresa la distancia "
   ]
  },
  {
   "cell_type": "code",
   "execution_count": 75,
   "id": "1a30e33d-c602-40d8-9a26-d2e5c10f1f15",
   "metadata": {},
   "outputs": [
    {
     "name": "stdout",
     "output_type": "stream",
     "text": [
      "La distancia entre los puntos es: 15.0\n"
     ]
    }
   ],
   "source": [
    "import math\n",
    "\n",
    "class Point2D:\n",
    "    def __init__(self, x, y):\n",
    "        self.x = x\n",
    "        self.y = y\n",
    "\n",
    "    def calculate_distance(self, other):\n",
    "        d = math.sqrt((self.x - other.x)** 2 + (self.y - other.y)**2)\n",
    "        return d\n",
    "\n",
    "punto1 = Point2D(-3, 4)\n",
    "punto2 = Point2D(9, -5)\n",
    "\n",
    "d = punto1.calculate_distance(punto2)\n",
    "print(\"La distancia entre los puntos es:\", d)"
   ]
  },
  {
   "cell_type": "code",
   "execution_count": null,
   "id": "e2ee814f-dcb1-44e8-b9a0-c1327ee5b96a",
   "metadata": {},
   "outputs": [],
   "source": []
  }
 ],
 "metadata": {
  "kernelspec": {
   "display_name": "Python 3 (ipykernel)",
   "language": "python",
   "name": "python3"
  },
  "language_info": {
   "codemirror_mode": {
    "name": "ipython",
    "version": 3
   },
   "file_extension": ".py",
   "mimetype": "text/x-python",
   "name": "python",
   "nbconvert_exporter": "python",
   "pygments_lexer": "ipython3",
   "version": "3.12.5"
  }
 },
 "nbformat": 4,
 "nbformat_minor": 5
}
